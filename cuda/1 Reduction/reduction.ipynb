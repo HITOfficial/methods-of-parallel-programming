{
  "nbformat": 4,
  "nbformat_minor": 0,
  "metadata": {
    "colab": {
      "provenance": [],
      "gpuType": "T4"
    },
    "kernelspec": {
      "name": "python3",
      "display_name": "Python 3"
    },
    "language_info": {
      "name": "python"
    },
    "accelerator": "GPU"
  },
  "cells": [
    {
      "cell_type": "code",
      "execution_count": null,
      "metadata": {
        "colab": {
          "base_uri": "https://localhost:8080/"
        },
        "id": "gX1e2vRAI_zP",
        "outputId": "fce6622e-a85f-437f-abfe-b150e3041115"
      },
      "outputs": [
        {
          "output_type": "stream",
          "name": "stdout",
          "text": [
            "Python 3.10.12\n",
            "nvcc: NVIDIA (R) Cuda compiler driver\n",
            "Copyright (c) 2005-2023 NVIDIA Corporation\n",
            "Built on Tue_Aug_15_22:02:13_PDT_2023\n",
            "Cuda compilation tools, release 12.2, V12.2.140\n",
            "Build cuda_12.2.r12.2/compiler.33191640_0\n",
            "Collecting nvcc4jupyter\n",
            "  Downloading nvcc4jupyter-1.2.1-py3-none-any.whl (10 kB)\n",
            "Installing collected packages: nvcc4jupyter\n",
            "Successfully installed nvcc4jupyter-1.2.1\n",
            "Detected platform \"Colab\". Running its setup...\n",
            "Source files will be saved in \"/tmp/tmpz40q_u70\".\n"
          ]
        }
      ],
      "source": [
        "!python --version\n",
        "!nvcc --version\n",
        "!pip install nvcc4jupyter\n",
        "%load_ext nvcc4jupyter"
      ]
    },
    {
      "cell_type": "code",
      "source": [
        "from google.colab import drive"
      ],
      "metadata": {
        "id": "dXD63m8RJAWM"
      },
      "execution_count": null,
      "outputs": []
    },
    {
      "cell_type": "code",
      "source": [
        "!nvcc --version\n"
      ],
      "metadata": {
        "colab": {
          "base_uri": "https://localhost:8080/"
        },
        "id": "m7CNg75JJPyN",
        "outputId": "237b1eda-96ad-43b6-ede7-aac7207de95e"
      },
      "execution_count": null,
      "outputs": [
        {
          "output_type": "stream",
          "name": "stdout",
          "text": [
            "nvcc: NVIDIA (R) Cuda compiler driver\n",
            "Copyright (c) 2005-2023 NVIDIA Corporation\n",
            "Built on Tue_Aug_15_22:02:13_PDT_2023\n",
            "Cuda compilation tools, release 12.2, V12.2.140\n",
            "Build cuda_12.2.r12.2/compiler.33191640_0\n"
          ]
        }
      ]
    },
    {
      "cell_type": "code",
      "source": [
        "!git clone https://github.com/NVIDIA/cuda-samples.git"
      ],
      "metadata": {
        "colab": {
          "base_uri": "https://localhost:8080/"
        },
        "id": "Pk3dtBZPaY7b",
        "outputId": "8357bb55-3014-47b9-b19e-fe9a086a7536"
      },
      "execution_count": null,
      "outputs": [
        {
          "output_type": "stream",
          "name": "stdout",
          "text": [
            "Cloning into 'cuda-samples'...\n",
            "remote: Enumerating objects: 18291, done.\u001b[K\n",
            "remote: Counting objects: 100% (3706/3706), done.\u001b[K\n",
            "remote: Compressing objects: 100% (477/477), done.\u001b[K\n",
            "remote: Total 18291 (delta 3373), reused 3448 (delta 3229), pack-reused 14585\u001b[K\n",
            "Receiving objects: 100% (18291/18291), 133.19 MiB | 24.98 MiB/s, done.\n",
            "Resolving deltas: 100% (16033/16033), done.\n",
            "Updating files: 100% (4012/4012), done.\n"
          ]
        }
      ]
    },
    {
      "cell_type": "code",
      "source": [
        "!nvcc -o reduction_global_gpu reduction_global.cpp reduction_global_kernel.cu -I cuda-samples/Common -arch=sm_50 -allow-unsupported-compiler"
      ],
      "metadata": {
        "id": "jEX-HjhULE7B"
      },
      "execution_count": null,
      "outputs": []
    },
    {
      "cell_type": "code",
      "source": [
        "!nvprof ./reduction_global_gpu"
      ],
      "metadata": {
        "colab": {
          "base_uri": "https://localhost:8080/"
        },
        "id": "oOrVIV1JcYic",
        "outputId": "2f7aeed7-8c09-4f8e-a36a-a8a1e270dc17"
      },
      "execution_count": null,
      "outputs": [
        {
          "output_type": "stream",
          "name": "stdout",
          "text": [
            "==2144== NVPROF is profiling process 2144, command: ./reduction_global_gpu\n",
            "Time= 14.752 msec, bandwidth= 4.549273 GB/s\n",
            "host: 0.996007, device 0.996007\n",
            "==2144== Profiling application: ./reduction_global_gpu\n",
            "==2144== Profiling result:\n",
            "            Type  Time(%)      Time     Calls       Avg       Min       Max  Name\n",
            " GPU activities:   95.35%  1.41579s      2424  584.07us  450.08us  792.70us  global_reduction_kernel(float*, float*, int, int)\n",
            "                    3.71%  55.069ms       100  550.69us  540.80us  553.95us  [CUDA memcpy DtoD]\n",
            "                    0.95%  14.034ms         1  14.034ms  14.034ms  14.034ms  [CUDA memcpy HtoD]\n",
            "                    0.00%  1.7600us         1  1.7600us  1.7600us  1.7600us  [CUDA memcpy DtoH]\n",
            "      API calls:   84.68%  1.46229s       101  14.478ms  3.6180us  34.960ms  cudaDeviceSynchronize\n",
            "                    7.13%  123.21ms      2424  50.828us  2.9320us  113.12ms  cudaLaunchKernel\n",
            "                    7.13%  123.18ms         2  61.588ms  139.55us  123.04ms  cudaMalloc\n",
            "                    0.94%  16.200ms       102  158.82us  7.8940us  14.200ms  cudaMemcpy\n",
            "                    0.11%  1.8942ms         2  947.10us  271.90us  1.6223ms  cudaFree\n",
            "                    0.01%  145.94us       114  1.2800us     140ns  57.709us  cuDeviceGetAttribute\n",
            "                    0.00%  13.976us         1  13.976us  13.976us  13.976us  cuDeviceGetName\n",
            "                    0.00%  6.7410us         1  6.7410us  6.7410us  6.7410us  cuDeviceGetPCIBusId\n",
            "                    0.00%  3.7800us         1  3.7800us  3.7800us  3.7800us  cuDeviceTotalMem\n",
            "                    0.00%  2.0070us         3     669ns     222ns  1.5470us  cuDeviceGetCount\n",
            "                    0.00%  1.3770us         2     688ns     167ns  1.2100us  cuDeviceGet\n",
            "                    0.00%     434ns         1     434ns     434ns     434ns  cuModuleGetLoadingMode\n",
            "                    0.00%     227ns         1     227ns     227ns     227ns  cuDeviceGetUuid\n"
          ]
        }
      ]
    },
    {
      "cell_type": "code",
      "source": [
        "!./reduction_global_gpu"
      ],
      "metadata": {
        "colab": {
          "base_uri": "https://localhost:8080/"
        },
        "id": "t3wHIAezZ32V",
        "outputId": "a2540c81-e718-4eed-b1d3-be2345f3964d"
      },
      "execution_count": null,
      "outputs": [
        {
          "output_type": "stream",
          "name": "stdout",
          "text": [
            "Time= 0.003 msec, bandwidth= 24227.025391 GB/s\n",
            "host: 0.996007, device 0.000000\n"
          ]
        }
      ]
    },
    {
      "cell_type": "code",
      "source": [
        "!nvcc -o reduction_shared_gpu reduction_shared.cpp reduction_shared_kernel.cu -I cuda-samples/Common -arch=sm_50 -allow-unsupported-compiler"
      ],
      "metadata": {
        "id": "3xvjUiAvMckd"
      },
      "execution_count": null,
      "outputs": []
    },
    {
      "cell_type": "code",
      "source": [
        "!nvprof ./reduction_shared_gpu"
      ],
      "metadata": {
        "colab": {
          "base_uri": "https://localhost:8080/"
        },
        "id": "pee-Jkf1YT6P",
        "outputId": "d28a290c-7f30-4786-9b76-bb9ededf29e8"
      },
      "execution_count": null,
      "outputs": [
        {
          "output_type": "stream",
          "name": "stdout",
          "text": [
            "==2600== NVPROF is profiling process 2600, command: ./reduction_shared_gpu\n",
            "Time= 2.557 msec, bandwidth= 26.242590 GB/s\n",
            "host: 0.996007, device 0.996007\n",
            "==2600== Profiling application: ./reduction_shared_gpu\n",
            "==2600== Profiling result:\n",
            "            Type  Time(%)      Time     Calls       Avg       Min       Max  Name\n",
            " GPU activities:   74.34%  201.40ms       303  664.69us  3.2960us  2.5102ms  reduction_kernel(float*, float*, unsigned int)\n",
            "                   20.10%  54.446ms       101  539.07us  535.07us  540.86us  [CUDA memcpy DtoD]\n",
            "                    5.56%  15.072ms         1  15.072ms  15.072ms  15.072ms  [CUDA memcpy HtoD]\n",
            "                    0.00%  1.8240us         1  1.8240us  1.8240us  1.8240us  [CUDA memcpy DtoH]\n",
            "      API calls:   54.81%  252.70ms         1  252.70ms  252.70ms  252.70ms  cudaDeviceSynchronize\n",
            "                   24.52%  113.03ms         2  56.517ms  207.43us  112.83ms  cudaMalloc\n",
            "                   16.75%  77.210ms       303  254.82us  4.9960us  75.295ms  cudaLaunchKernel\n",
            "                    3.54%  16.318ms       103  158.43us  7.8900us  15.269ms  cudaMemcpy\n",
            "                    0.33%  1.5395ms         2  769.76us  352.00us  1.1875ms  cudaFree\n",
            "                    0.04%  199.49us       114  1.7490us     266ns  77.501us  cuDeviceGetAttribute\n",
            "                    0.00%  12.938us         1  12.938us  12.938us  12.938us  cuDeviceGetName\n",
            "                    0.00%  7.5910us         1  7.5910us  7.5910us  7.5910us  cuDeviceGetPCIBusId\n",
            "                    0.00%  6.6360us         1  6.6360us  6.6360us  6.6360us  cuDeviceTotalMem\n",
            "                    0.00%  2.2360us         3     745ns     369ns  1.3450us  cuDeviceGetCount\n",
            "                    0.00%  1.0110us         2     505ns     340ns     671ns  cuDeviceGet\n",
            "                    0.00%     478ns         1     478ns     478ns     478ns  cuModuleGetLoadingMode\n",
            "                    0.00%     407ns         1     407ns     407ns     407ns  cuDeviceGetUuid\n"
          ]
        }
      ]
    },
    {
      "cell_type": "code",
      "source": [
        "!./reduction_shared_gpu"
      ],
      "metadata": {
        "colab": {
          "base_uri": "https://localhost:8080/"
        },
        "id": "YJMe4jZQjoVM",
        "outputId": "fec995a0-80e8-46ee-e18b-f5e073a9a0f9"
      },
      "execution_count": null,
      "outputs": [
        {
          "output_type": "stream",
          "name": "stdout",
          "text": [
            "Time= 2.814 msec, bandwidth= 23.846598 GB/s\n",
            "host: 0.996007, device 0.996007\n"
          ]
        }
      ]
    }
  ]
}