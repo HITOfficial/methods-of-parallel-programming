{
  "nbformat": 4,
  "nbformat_minor": 0,
  "metadata": {
    "colab": {
      "provenance": [],
      "gpuType": "T4"
    },
    "kernelspec": {
      "name": "python3",
      "display_name": "Python 3"
    },
    "language_info": {
      "name": "python"
    },
    "accelerator": "GPU"
  },
  "cells": [
    {
      "cell_type": "code",
      "execution_count": null,
      "metadata": {
        "colab": {
          "base_uri": "https://localhost:8080/"
        },
        "id": "gX1e2vRAI_zP",
        "outputId": "784381cd-c7b5-476a-dee3-0290262bafb0"
      },
      "outputs": [
        {
          "output_type": "stream",
          "name": "stdout",
          "text": [
            "Python 3.10.12\n",
            "nvcc: NVIDIA (R) Cuda compiler driver\n",
            "Copyright (c) 2005-2023 NVIDIA Corporation\n",
            "Built on Tue_Aug_15_22:02:13_PDT_2023\n",
            "Cuda compilation tools, release 12.2, V12.2.140\n",
            "Build cuda_12.2.r12.2/compiler.33191640_0\n",
            "Collecting nvcc4jupyter\n",
            "  Downloading nvcc4jupyter-1.2.1-py3-none-any.whl (10 kB)\n",
            "Installing collected packages: nvcc4jupyter\n",
            "Successfully installed nvcc4jupyter-1.2.1\n",
            "Detected platform \"Colab\". Running its setup...\n",
            "Source files will be saved in \"/tmp/tmpudvhp66c\".\n"
          ]
        }
      ],
      "source": [
        "!python --version\n",
        "!nvcc --version\n",
        "!pip install nvcc4jupyter\n",
        "%load_ext nvcc4jupyter"
      ]
    },
    {
      "cell_type": "code",
      "source": [
        "!nvcc --version"
      ],
      "metadata": {
        "colab": {
          "base_uri": "https://localhost:8080/"
        },
        "id": "m7CNg75JJPyN",
        "outputId": "237b1eda-96ad-43b6-ede7-aac7207de95e"
      },
      "execution_count": null,
      "outputs": [
        {
          "output_type": "stream",
          "name": "stdout",
          "text": [
            "nvcc: NVIDIA (R) Cuda compiler driver\n",
            "Copyright (c) 2005-2023 NVIDIA Corporation\n",
            "Built on Tue_Aug_15_22:02:13_PDT_2023\n",
            "Cuda compilation tools, release 12.2, V12.2.140\n",
            "Build cuda_12.2.r12.2/compiler.33191640_0\n"
          ]
        }
      ]
    },
    {
      "cell_type": "code",
      "source": [
        "!git clone https://github.com/NVIDIA/cuda-samples.git"
      ],
      "metadata": {
        "colab": {
          "base_uri": "https://localhost:8080/"
        },
        "id": "Pk3dtBZPaY7b",
        "outputId": "e9b53b0c-3f5e-47f1-de91-c3ae44ccc32a"
      },
      "execution_count": null,
      "outputs": [
        {
          "output_type": "stream",
          "name": "stdout",
          "text": [
            "Cloning into 'cuda-samples'...\n",
            "remote: Enumerating objects: 18291, done.\u001b[K\n",
            "remote: Counting objects: 100% (3706/3706), done.\u001b[K\n",
            "remote: Compressing objects: 100% (477/477), done.\u001b[K\n",
            "remote: Total 18291 (delta 3373), reused 3448 (delta 3229), pack-reused 14585\u001b[K\n",
            "Receiving objects: 100% (18291/18291), 133.19 MiB | 14.53 MiB/s, done.\n",
            "Resolving deltas: 100% (16033/16033), done.\n",
            "Updating files: 100% (4012/4012), done.\n"
          ]
        }
      ]
    },
    {
      "cell_type": "code",
      "source": [
        "!nvcc -o reduction_kernel_interleaving_gpu reduction.cpp reduction_kernel_interleaving.cu -I cuda-samples/Common -arch=sm_50 -allow-unsupported-compiler"
      ],
      "metadata": {
        "id": "jEX-HjhULE7B"
      },
      "execution_count": null,
      "outputs": []
    },
    {
      "cell_type": "code",
      "source": [
        "!nvprof ./reduction_kernel_interleaving_gpu"
      ],
      "metadata": {
        "colab": {
          "base_uri": "https://localhost:8080/"
        },
        "id": "oOrVIV1JcYic",
        "outputId": "44f38e72-8b97-4b3a-880a-cfce7f71e562"
      },
      "execution_count": null,
      "outputs": [
        {
          "output_type": "stream",
          "name": "stdout",
          "text": [
            "==4827== NVPROF is profiling process 4827, command: ./reduction_kernel_interleaving_gpu\n",
            "Time= 3.060 msec, bandwidth= 21.929567 GB/s\n",
            "host: 0.996007, device 0.996007\n",
            "==4827== Profiling application: ./reduction_kernel_interleaving_gpu\n",
            "==4827== Profiling result:\n",
            "            Type  Time(%)      Time     Calls       Avg       Min       Max  Name\n",
            " GPU activities:   47.77%  13.966ms         1  13.966ms  13.966ms  13.966ms  [CUDA memcpy HtoD]\n",
            "                   42.99%  12.568ms        16  785.53us  4.9920us  2.0800ms  reduction_kernel_1(float*, float*, unsigned int)\n",
            "                    9.23%  2.6997ms         5  539.95us  539.57us  540.50us  [CUDA memcpy DtoD]\n",
            "                    0.01%  2.1440us         1  2.1440us  2.1440us  2.1440us  [CUDA memcpy DtoH]\n",
            "      API calls:   45.58%  117.40ms         2  58.701ms  181.97us  117.22ms  cudaMalloc\n",
            "                   42.40%  109.22ms        16  6.8263ms  3.7600us  109.15ms  cudaLaunchKernel\n",
            "                    5.88%  15.140ms         1  15.140ms  15.140ms  15.140ms  cudaDeviceSynchronize\n",
            "                    5.53%  14.244ms         7  2.0349ms  5.4560us  14.124ms  cudaMemcpy\n",
            "                    0.55%  1.4149ms         2  707.45us  298.66us  1.1162ms  cudaFree\n",
            "                    0.05%  130.04us       114  1.1400us     139ns  50.738us  cuDeviceGetAttribute\n",
            "                    0.00%  11.974us         1  11.974us  11.974us  11.974us  cuDeviceGetName\n",
            "                    0.00%  8.8210us         1  8.8210us  8.8210us  8.8210us  cuDeviceGetPCIBusId\n",
            "                    0.00%  5.2480us         1  5.2480us  5.2480us  5.2480us  cuDeviceTotalMem\n",
            "                    0.00%  2.6790us         2  1.3390us     212ns  2.4670us  cuDeviceGet\n",
            "                    0.00%  1.4290us         3     476ns     232ns     955ns  cuDeviceGetCount\n",
            "                    0.00%     485ns         1     485ns     485ns     485ns  cuModuleGetLoadingMode\n",
            "                    0.00%     208ns         1     208ns     208ns     208ns  cuDeviceGetUuid\n"
          ]
        }
      ]
    },
    {
      "cell_type": "code",
      "source": [
        "!./reduction_kernel_interleaving_gpu"
      ],
      "metadata": {
        "colab": {
          "base_uri": "https://localhost:8080/"
        },
        "id": "t3wHIAezZ32V",
        "outputId": "99e1693e-f1b9-4033-934f-6a90559bcbf3"
      },
      "execution_count": null,
      "outputs": [
        {
          "output_type": "stream",
          "name": "stdout",
          "text": [
            "Time= 3.011 msec, bandwidth= 22.290859 GB/s\n",
            "host: 0.996007, device 0.996007\n"
          ]
        }
      ]
    },
    {
      "cell_type": "code",
      "source": [
        "!nvcc -o reduction_kernel_sequential_gpu reduction.cpp reduction_kernel_sequential.cu -I cuda-samples/Common -arch=sm_50 -allow-unsupported-compiler"
      ],
      "metadata": {
        "id": "3xvjUiAvMckd"
      },
      "execution_count": null,
      "outputs": []
    },
    {
      "cell_type": "code",
      "source": [
        "!nvprof ./reduction_kernel_sequential_gpu"
      ],
      "metadata": {
        "colab": {
          "base_uri": "https://localhost:8080/"
        },
        "id": "pee-Jkf1YT6P",
        "outputId": "e57fba34-c29d-4972-da17-30fe3c4979e5"
      },
      "execution_count": null,
      "outputs": [
        {
          "output_type": "stream",
          "name": "stdout",
          "text": [
            "==5486== NVPROF is profiling process 5486, command: ./reduction_kernel_sequential_gpu\n",
            "Time= 2.576 msec, bandwidth= 26.047531 GB/s\n",
            "host: 0.996007, device 0.996007\n",
            "==5486== Profiling application: ./reduction_kernel_sequential_gpu\n",
            "==5486== Profiling result:\n",
            "            Type  Time(%)      Time     Calls       Avg       Min       Max  Name\n",
            " GPU activities:   53.35%  14.679ms         1  14.679ms  14.679ms  14.679ms  [CUDA memcpy HtoD]\n",
            "                   36.83%  10.133ms        16  633.29us  4.7360us  1.6762ms  reduction_kernel_2(float*, float*, unsigned int)\n",
            "                    9.81%  2.6988ms         5  539.76us  539.38us  540.27us  [CUDA memcpy DtoD]\n",
            "                    0.01%  2.0800us         1  2.0800us  2.0800us  2.0800us  [CUDA memcpy DtoH]\n",
            "      API calls:   81.44%  130.70ms         2  65.352ms  212.08us  130.49ms  cudaMalloc\n",
            "                    9.35%  14.999ms         7  2.1427ms  7.4530us  14.896ms  cudaMemcpy\n",
            "                    7.90%  12.683ms         1  12.683ms  12.683ms  12.683ms  cudaDeviceSynchronize\n",
            "                    0.87%  1.3894ms         2  694.68us  205.83us  1.1835ms  cudaFree\n",
            "                    0.27%  439.70us        16  27.481us  5.2210us  332.87us  cudaLaunchKernel\n",
            "                    0.14%  232.45us       114  2.0390us     187ns  81.727us  cuDeviceGetAttribute\n",
            "                    0.01%  19.416us         1  19.416us  19.416us  19.416us  cuDeviceGetName\n",
            "                    0.00%  6.9620us         1  6.9620us  6.9620us  6.9620us  cuDeviceTotalMem\n",
            "                    0.00%  5.4090us         1  5.4090us  5.4090us  5.4090us  cuDeviceGetPCIBusId\n",
            "                    0.00%  1.9890us         3     663ns     340ns  1.2500us  cuDeviceGetCount\n",
            "                    0.00%  1.1080us         2     554ns     205ns     903ns  cuDeviceGet\n",
            "                    0.00%     471ns         1     471ns     471ns     471ns  cuModuleGetLoadingMode\n",
            "                    0.00%     422ns         1     422ns     422ns     422ns  cuDeviceGetUuid\n"
          ]
        }
      ]
    },
    {
      "cell_type": "code",
      "source": [
        "!./reduction_kernel_sequential_gpu"
      ],
      "metadata": {
        "colab": {
          "base_uri": "https://localhost:8080/"
        },
        "id": "YJMe4jZQjoVM",
        "outputId": "9b8ec82a-335f-4f85-a6d8-4649d086e481"
      },
      "execution_count": null,
      "outputs": [
        {
          "output_type": "stream",
          "name": "stdout",
          "text": [
            "Time= 2.476 msec, bandwidth= 27.099363 GB/s\n",
            "host: 0.996007, device 0.996007\n"
          ]
        }
      ]
    }
  ]
}