{
  "nbformat": 4,
  "nbformat_minor": 0,
  "metadata": {
    "colab": {
      "provenance": [],
      "gpuType": "T4"
    },
    "kernelspec": {
      "name": "python3",
      "display_name": "Python 3"
    },
    "language_info": {
      "name": "python"
    },
    "accelerator": "GPU"
  },
  "cells": [
    {
      "cell_type": "code",
      "execution_count": null,
      "metadata": {
        "colab": {
          "base_uri": "https://localhost:8080/"
        },
        "id": "gX1e2vRAI_zP",
        "outputId": "f11a1a77-3bb5-4efe-bada-c1cc1bd07f91"
      },
      "outputs": [
        {
          "output_type": "stream",
          "name": "stdout",
          "text": [
            "Python 3.10.12\n",
            "nvcc: NVIDIA (R) Cuda compiler driver\n",
            "Copyright (c) 2005-2023 NVIDIA Corporation\n",
            "Built on Tue_Aug_15_22:02:13_PDT_2023\n",
            "Cuda compilation tools, release 12.2, V12.2.140\n",
            "Build cuda_12.2.r12.2/compiler.33191640_0\n",
            "Collecting nvcc4jupyter\n",
            "  Downloading nvcc4jupyter-1.2.1-py3-none-any.whl (10 kB)\n",
            "Installing collected packages: nvcc4jupyter\n",
            "Successfully installed nvcc4jupyter-1.2.1\n",
            "Detected platform \"Colab\". Running its setup...\n",
            "Source files will be saved in \"/tmp/tmpy9d9coma\".\n"
          ]
        }
      ],
      "source": [
        "!python --version\n",
        "!nvcc --version\n",
        "!pip install nvcc4jupyter\n",
        "%load_ext nvcc4jupyter"
      ]
    },
    {
      "cell_type": "code",
      "source": [
        "!nvcc --version"
      ],
      "metadata": {
        "colab": {
          "base_uri": "https://localhost:8080/"
        },
        "id": "m7CNg75JJPyN",
        "outputId": "0e4564df-9982-4be8-dd0f-47183d03fa91"
      },
      "execution_count": null,
      "outputs": [
        {
          "output_type": "stream",
          "name": "stdout",
          "text": [
            "nvcc: NVIDIA (R) Cuda compiler driver\n",
            "Copyright (c) 2005-2023 NVIDIA Corporation\n",
            "Built on Tue_Aug_15_22:02:13_PDT_2023\n",
            "Cuda compilation tools, release 12.2, V12.2.140\n",
            "Build cuda_12.2.r12.2/compiler.33191640_0\n"
          ]
        }
      ]
    },
    {
      "cell_type": "code",
      "source": [
        "!git clone https://github.com/NVIDIA/cuda-samples.git"
      ],
      "metadata": {
        "colab": {
          "base_uri": "https://localhost:8080/"
        },
        "id": "Pk3dtBZPaY7b",
        "outputId": "38376ced-1012-4a4a-d443-fd5189434b28"
      },
      "execution_count": null,
      "outputs": [
        {
          "output_type": "stream",
          "name": "stdout",
          "text": [
            "Cloning into 'cuda-samples'...\n",
            "remote: Enumerating objects: 18291, done.\u001b[K\n",
            "remote: Counting objects: 100% (3706/3706), done.\u001b[K\n",
            "remote: Compressing objects: 100% (477/477), done.\u001b[K\n",
            "remote: Total 18291 (delta 3373), reused 3446 (delta 3229), pack-reused 14585\u001b[K\n",
            "Receiving objects: 100% (18291/18291), 133.19 MiB | 21.40 MiB/s, done.\n",
            "Resolving deltas: 100% (16033/16033), done.\n",
            "Updating files: 100% (4012/4012), done.\n"
          ]
        }
      ]
    },
    {
      "cell_type": "code",
      "source": [
        "!nvcc -o reduction_cg_kernel reduction.cpp reduction_cg_kernel.cu -I cuda-samples/Common -arch=sm_50 -allow-unsupported-compiler"
      ],
      "metadata": {
        "id": "jEX-HjhULE7B"
      },
      "execution_count": null,
      "outputs": []
    },
    {
      "cell_type": "code",
      "source": [
        "!nvprof ./reduction_cg_kernel"
      ],
      "metadata": {
        "colab": {
          "base_uri": "https://localhost:8080/"
        },
        "id": "oOrVIV1JcYic",
        "outputId": "a58da0ad-bfdb-4a92-99db-9020a449c5cc"
      },
      "execution_count": null,
      "outputs": [
        {
          "output_type": "stream",
          "name": "stdout",
          "text": [
            "==663== NVPROF is profiling process 663, command: ./reduction_cg_kernel\n",
            "Time= 0.813 msec, bandwidth= 82.557930 GB/s\n",
            "host: 0.996007, device 0.996007\n",
            "==663== Profiling application: ./reduction_cg_kernel\n",
            "==663== Profiling result:\n",
            "            Type  Time(%)      Time     Calls       Avg       Min       Max  Name\n",
            " GPU activities:   56.85%  54.025ms       100  540.25us  539.26us  541.34us  [CUDA memcpy DtoD]\n",
            "                   28.29%  26.879ms       202  133.07us  4.5430us  264.64us  reduction_kernel(float*, float*, unsigned int)\n",
            "                   14.86%  14.116ms         1  14.116ms  14.116ms  14.116ms  [CUDA memcpy HtoD]\n",
            "                    0.00%  2.1760us         1  2.1760us  2.1760us  2.1760us  [CUDA memcpy DtoH]\n",
            "      API calls:   48.47%  210.86ms         2  105.43ms  203.64us  210.66ms  cudaMalloc\n",
            "                   29.07%  126.48ms       101  1.2523ms     484ns  126.43ms  cudaOccupancyMaxActiveBlocksPerMultiprocessorWithFlags\n",
            "                   18.31%  79.664ms         1  79.664ms  79.664ms  79.664ms  cudaDeviceSynchronize\n",
            "                    3.44%  14.980ms       102  146.87us  4.9420us  14.301ms  cudaMemcpy\n",
            "                    0.34%  1.4902ms       202  7.3770us  2.9910us  697.87us  cudaLaunchKernel\n",
            "                    0.32%  1.3786ms         2  689.31us  250.61us  1.1280ms  cudaFree\n",
            "                    0.03%  127.54us       114  1.1180us     142ns  51.070us  cuDeviceGetAttribute\n",
            "                    0.01%  46.537us       101     460ns     392ns  3.1860us  cudaDeviceGetAttribute\n",
            "                    0.00%  10.595us         1  10.595us  10.595us  10.595us  cuDeviceGetName\n",
            "                    0.00%  6.8480us         1  6.8480us  6.8480us  6.8480us  cuDeviceGetPCIBusId\n",
            "                    0.00%  3.4100us         1  3.4100us  3.4100us  3.4100us  cuDeviceTotalMem\n",
            "                    0.00%  1.6810us         3     560ns     203ns  1.2530us  cuDeviceGetCount\n",
            "                    0.00%     961ns         2     480ns     213ns     748ns  cuDeviceGet\n",
            "                    0.00%     670ns         1     670ns     670ns     670ns  cuModuleGetLoadingMode\n",
            "                    0.00%     240ns         1     240ns     240ns     240ns  cuDeviceGetUuid\n"
          ]
        }
      ]
    },
    {
      "cell_type": "code",
      "source": [
        "!./reduction_cg_kernel"
      ],
      "metadata": {
        "colab": {
          "base_uri": "https://localhost:8080/"
        },
        "id": "t3wHIAezZ32V",
        "outputId": "462dff8f-a58e-4c3e-cea3-e11dc7636a45"
      },
      "execution_count": null,
      "outputs": [
        {
          "output_type": "stream",
          "name": "stdout",
          "text": [
            "Time= 0.807 msec, bandwidth= 83.110039 GB/s\n",
            "host: 0.996007, device 0.996007\n"
          ]
        }
      ]
    },
    {
      "cell_type": "code",
      "source": [
        "!nvcc -o reduction_wp_kernel reduction.cpp reduction_wp_kernel.cu -I cuda-samples/Common -arch=sm_50 -allow-unsupported-compiler"
      ],
      "metadata": {
        "id": "3xvjUiAvMckd"
      },
      "execution_count": null,
      "outputs": []
    },
    {
      "cell_type": "code",
      "source": [
        "!nvprof ./reduction_wp_kernel"
      ],
      "metadata": {
        "colab": {
          "base_uri": "https://localhost:8080/"
        },
        "id": "pee-Jkf1YT6P",
        "outputId": "23a7a0fc-8ec1-40d3-ed0f-1532716311ef"
      },
      "execution_count": null,
      "outputs": [
        {
          "output_type": "stream",
          "name": "stdout",
          "text": [
            "==830== NVPROF is profiling process 830, command: ./reduction_wp_kernel\n",
            "Time= 0.817 msec, bandwidth= 82.183846 GB/s\n",
            "host: 0.996007, device 0.996007\n",
            "==830== Profiling application: ./reduction_wp_kernel\n",
            "==830== Profiling result:\n",
            "            Type  Time(%)      Time     Calls       Avg       Min       Max  Name\n",
            " GPU activities:   53.53%  54.024ms       100  540.24us  539.32us  540.92us  [CUDA memcpy DtoD]\n",
            "                   26.98%  27.228ms       202  134.79us  4.1280us  268.03us  reduction_kernel(float*, float*, unsigned int)\n",
            "                   19.48%  19.663ms         1  19.663ms  19.663ms  19.663ms  [CUDA memcpy HtoD]\n",
            "                    0.00%  2.1440us         1  2.1440us  2.1440us  2.1440us  [CUDA memcpy DtoH]\n",
            "      API calls:   53.77%  188.94ms         2  94.469ms  139.85us  188.80ms  cudaMalloc\n",
            "                   22.79%  80.089ms         1  80.089ms  80.089ms  80.089ms  cudaDeviceSynchronize\n",
            "                   16.57%  58.218ms       101  576.42us     454ns  58.167ms  cudaOccupancyMaxActiveBlocksPerMultiprocessorWithFlags\n",
            "                    5.82%  20.443ms       102  200.42us  4.3430us  19.844ms  cudaMemcpy\n",
            "                    0.75%  2.6429ms         2  1.3214ms  332.97us  2.3099ms  cudaFree\n",
            "                    0.24%  851.15us       202  4.2130us  3.1210us  31.815us  cudaLaunchKernel\n",
            "                    0.04%  135.25us       114  1.1860us     140ns  55.071us  cuDeviceGetAttribute\n",
            "                    0.01%  46.460us       101     460ns     362ns  4.5490us  cudaDeviceGetAttribute\n",
            "                    0.00%  12.755us         1  12.755us  12.755us  12.755us  cuDeviceGetName\n",
            "                    0.00%  5.6850us         1  5.6850us  5.6850us  5.6850us  cuDeviceGetPCIBusId\n",
            "                    0.00%  4.5980us         1  4.5980us  4.5980us  4.5980us  cuDeviceTotalMem\n",
            "                    0.00%  1.9470us         3     649ns     215ns  1.5090us  cuDeviceGetCount\n",
            "                    0.00%     899ns         2     449ns     178ns     721ns  cuDeviceGet\n",
            "                    0.00%     480ns         1     480ns     480ns     480ns  cuModuleGetLoadingMode\n",
            "                    0.00%     258ns         1     258ns     258ns     258ns  cuDeviceGetUuid\n"
          ]
        }
      ]
    },
    {
      "cell_type": "code",
      "source": [
        "!./reduction_wp_kernel"
      ],
      "metadata": {
        "colab": {
          "base_uri": "https://localhost:8080/"
        },
        "id": "YJMe4jZQjoVM",
        "outputId": "5a297885-7bac-48ba-e89c-97e05f0495e6"
      },
      "execution_count": null,
      "outputs": [
        {
          "output_type": "stream",
          "name": "stdout",
          "text": [
            "Time= 0.811 msec, bandwidth= 82.760544 GB/s\n",
            "host: 0.996007, device 0.996007\n"
          ]
        }
      ]
    }
  ]
}