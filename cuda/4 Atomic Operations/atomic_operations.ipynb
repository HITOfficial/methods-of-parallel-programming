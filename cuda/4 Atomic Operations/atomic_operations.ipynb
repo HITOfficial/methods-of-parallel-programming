{
  "nbformat": 4,
  "nbformat_minor": 0,
  "metadata": {
    "colab": {
      "provenance": [],
      "gpuType": "T4"
    },
    "kernelspec": {
      "name": "python3",
      "display_name": "Python 3"
    },
    "language_info": {
      "name": "python"
    },
    "accelerator": "GPU"
  },
  "cells": [
    {
      "cell_type": "code",
      "execution_count": 3,
      "metadata": {
        "colab": {
          "base_uri": "https://localhost:8080/"
        },
        "id": "gX1e2vRAI_zP",
        "outputId": "9a1595bc-0846-4934-ac76-e75aa2299f01"
      },
      "outputs": [
        {
          "output_type": "stream",
          "name": "stdout",
          "text": [
            "Python 3.10.12\n",
            "nvcc: NVIDIA (R) Cuda compiler driver\n",
            "Copyright (c) 2005-2023 NVIDIA Corporation\n",
            "Built on Tue_Aug_15_22:02:13_PDT_2023\n",
            "Cuda compilation tools, release 12.2, V12.2.140\n",
            "Build cuda_12.2.r12.2/compiler.33191640_0\n",
            "Collecting nvcc4jupyter\n",
            "  Downloading nvcc4jupyter-1.2.1-py3-none-any.whl (10 kB)\n",
            "Installing collected packages: nvcc4jupyter\n",
            "Successfully installed nvcc4jupyter-1.2.1\n",
            "Detected platform \"Colab\". Running its setup...\n",
            "Source files will be saved in \"/tmp/tmpk6ev1kip\".\n"
          ]
        }
      ],
      "source": [
        "!python --version\n",
        "!nvcc --version\n",
        "!pip install nvcc4jupyter\n",
        "%load_ext nvcc4jupyter"
      ]
    },
    {
      "cell_type": "code",
      "source": [
        "!nvcc --version"
      ],
      "metadata": {
        "colab": {
          "base_uri": "https://localhost:8080/"
        },
        "id": "m7CNg75JJPyN",
        "outputId": "0dabc5dc-cc74-442f-e463-acdef6717b51"
      },
      "execution_count": 4,
      "outputs": [
        {
          "output_type": "stream",
          "name": "stdout",
          "text": [
            "nvcc: NVIDIA (R) Cuda compiler driver\n",
            "Copyright (c) 2005-2023 NVIDIA Corporation\n",
            "Built on Tue_Aug_15_22:02:13_PDT_2023\n",
            "Cuda compilation tools, release 12.2, V12.2.140\n",
            "Build cuda_12.2.r12.2/compiler.33191640_0\n"
          ]
        }
      ]
    },
    {
      "cell_type": "code",
      "source": [
        "!git clone https://github.com/NVIDIA/cuda-samples.git"
      ],
      "metadata": {
        "colab": {
          "base_uri": "https://localhost:8080/"
        },
        "id": "Pk3dtBZPaY7b",
        "outputId": "f1f08875-aeea-49fa-e7be-aa64af1d7100"
      },
      "execution_count": 2,
      "outputs": [
        {
          "output_type": "stream",
          "name": "stdout",
          "text": [
            "Cloning into 'cuda-samples'...\n",
            "remote: Enumerating objects: 18291, done.\u001b[K\n",
            "remote: Counting objects: 100% (3706/3706), done.\u001b[K\n",
            "remote: Compressing objects: 100% (477/477), done.\u001b[K\n",
            "remote: Total 18291 (delta 3373), reused 3448 (delta 3229), pack-reused 14585\u001b[K\n",
            "Receiving objects: 100% (18291/18291), 133.19 MiB | 26.53 MiB/s, done.\n",
            "Resolving deltas: 100% (16033/16033), done.\n",
            "Updating files: 100% (4012/4012), done.\n"
          ]
        }
      ]
    },
    {
      "cell_type": "code",
      "source": [
        "!nvcc -o reduction_blk_atmc_kernel reduction.cpp reduction_blk_atmc_kernel.cu -I cuda-samples/Common -arch=sm_50 -allow-unsupported-compiler"
      ],
      "metadata": {
        "id": "jEX-HjhULE7B"
      },
      "execution_count": 5,
      "outputs": []
    },
    {
      "cell_type": "code",
      "source": [
        "!nvprof ./reduction_blk_atmc_kernel"
      ],
      "metadata": {
        "colab": {
          "base_uri": "https://localhost:8080/"
        },
        "id": "oOrVIV1JcYic",
        "outputId": "f344da7f-1f65-48af-8b0c-22a55a2f47c5"
      },
      "execution_count": 6,
      "outputs": [
        {
          "output_type": "stream",
          "name": "stdout",
          "text": [
            "==962== NVPROF is profiling process 962, command: ./reduction_blk_atmc_kernel\n",
            "Time= 0.809 msec, bandwidth= 82.921082 GB/s\n",
            "host: 0.996007, device 0.996007\n",
            "==962== Profiling application: ./reduction_blk_atmc_kernel\n",
            "==962== Profiling result:\n",
            "            Type  Time(%)      Time     Calls       Avg       Min       Max  Name\n",
            " GPU activities:   54.95%  54.028ms       100  540.28us  539.51us  540.95us  [CUDA memcpy DtoD]\n",
            "                   27.09%  26.631ms       101  263.67us  255.48us  266.36us  reduction_blk_atmc_kernel(float*, float*, unsigned int)\n",
            "                   17.96%  17.659ms         1  17.659ms  17.659ms  17.659ms  [CUDA memcpy HtoD]\n",
            "                    0.00%  2.2080us         1  2.2080us  2.2080us  2.2080us  [CUDA memcpy DtoH]\n",
            "      API calls:   51.15%  250.47ms         2  125.24ms  237.00us  250.24ms  cudaMalloc\n",
            "                   28.00%  137.09ms       101  1.3574ms     506ns  137.04ms  cudaOccupancyMaxActiveBlocksPerMultiprocessorWithFlags\n",
            "                   16.29%  79.766ms         1  79.766ms  79.766ms  79.766ms  cudaDeviceSynchronize\n",
            "                    3.77%  18.463ms       102  181.01us  4.3910us  17.842ms  cudaMemcpy\n",
            "                    0.50%  2.4402ms         2  1.2201ms  251.10us  2.1891ms  cudaFree\n",
            "                    0.25%  1.2134ms       101  12.013us  3.2450us  798.56us  cudaLaunchKernel\n",
            "                    0.03%  164.88us       114  1.4460us     185ns  64.190us  cuDeviceGetAttribute\n",
            "                    0.01%  45.121us       101     446ns     340ns  4.5870us  cudaDeviceGetAttribute\n",
            "                    0.00%  12.752us         1  12.752us  12.752us  12.752us  cuDeviceGetName\n",
            "                    0.00%  9.6870us         1  9.6870us  9.6870us  9.6870us  cuDeviceGetPCIBusId\n",
            "                    0.00%  4.8700us         1  4.8700us  4.8700us  4.8700us  cuDeviceTotalMem\n",
            "                    0.00%  1.9240us         3     641ns     285ns  1.3460us  cuDeviceGetCount\n",
            "                    0.00%  1.1320us         2     566ns     195ns     937ns  cuDeviceGet\n",
            "                    0.00%     432ns         1     432ns     432ns     432ns  cuModuleGetLoadingMode\n",
            "                    0.00%     348ns         1     348ns     348ns     348ns  cuDeviceGetUuid\n"
          ]
        }
      ]
    },
    {
      "cell_type": "code",
      "source": [
        "!./reduction_blk_atmc_kernel"
      ],
      "metadata": {
        "colab": {
          "base_uri": "https://localhost:8080/"
        },
        "id": "t3wHIAezZ32V",
        "outputId": "bceaebb2-a6cd-460a-8f36-24188a48db83"
      },
      "execution_count": 7,
      "outputs": [
        {
          "output_type": "stream",
          "name": "stdout",
          "text": [
            "Time= 0.804 msec, bandwidth= 83.479118 GB/s\n",
            "host: 0.996007, device 0.996007\n"
          ]
        }
      ]
    },
    {
      "cell_type": "code",
      "source": [
        "!nvcc -o reduction_wrp_atmc_kernel reduction.cpp reduction_wrp_atmc_kernel.cu -I cuda-samples/Common -arch=sm_50 -allow-unsupported-compiler"
      ],
      "metadata": {
        "id": "3xvjUiAvMckd"
      },
      "execution_count": 8,
      "outputs": []
    },
    {
      "cell_type": "code",
      "source": [
        "!nvprof ./reduction_wrp_atmc_kernel"
      ],
      "metadata": {
        "colab": {
          "base_uri": "https://localhost:8080/"
        },
        "id": "pee-Jkf1YT6P",
        "outputId": "f437bcd3-75e6-48c2-9bde-c826fcfb6e75"
      },
      "execution_count": 9,
      "outputs": [
        {
          "output_type": "stream",
          "name": "stdout",
          "text": [
            "==1049== NVPROF is profiling process 1049, command: ./reduction_wrp_atmc_kernel\n",
            "Time= 0.809 msec, bandwidth= 82.981583 GB/s\n",
            "host: 0.996007, device 0.996007\n",
            "==1049== Profiling application: ./reduction_wrp_atmc_kernel\n",
            "==1049== Profiling result:\n",
            "            Type  Time(%)      Time     Calls       Avg       Min       Max  Name\n",
            " GPU activities:   56.61%  54.028ms       100  540.28us  539.51us  541.14us  [CUDA memcpy DtoD]\n",
            "                   27.85%  26.580ms       101  263.17us  258.75us  267.39us  reduction_wrp_atmc_kernel(float*, float*, unsigned int)\n",
            "                   15.54%  14.836ms         1  14.836ms  14.836ms  14.836ms  [CUDA memcpy HtoD]\n",
            "                    0.00%  2.2080us         1  2.2080us  2.2080us  2.2080us  [CUDA memcpy DtoH]\n",
            "      API calls:   54.58%  171.68ms         2  85.838ms  216.58us  171.46ms  cudaMalloc\n",
            "                   25.35%  79.748ms         1  79.748ms  79.748ms  79.748ms  cudaDeviceSynchronize\n",
            "                   14.45%  45.437ms       101  449.88us     459ns  45.385ms  cudaOccupancyMaxActiveBlocksPerMultiprocessorWithFlags\n",
            "                    4.98%  15.668ms       102  153.60us  4.3480us  15.072ms  cudaMemcpy\n",
            "                    0.43%  1.3513ms         2  675.67us  220.20us  1.1311ms  cudaFree\n",
            "                    0.14%  430.35us       101  4.2600us  3.0630us  29.122us  cudaLaunchKernel\n",
            "                    0.05%  153.14us       114  1.3430us     146ns  63.178us  cuDeviceGetAttribute\n",
            "                    0.01%  43.862us       101     434ns     366ns  2.9730us  cudaDeviceGetAttribute\n",
            "                    0.00%  10.847us         1  10.847us  10.847us  10.847us  cuDeviceGetName\n",
            "                    0.00%  5.4900us         1  5.4900us  5.4900us  5.4900us  cuDeviceGetPCIBusId\n",
            "                    0.00%  4.4560us         1  4.4560us  4.4560us  4.4560us  cuDeviceTotalMem\n",
            "                    0.00%  1.5190us         3     506ns     248ns  1.0070us  cuDeviceGetCount\n",
            "                    0.00%     806ns         2     403ns     169ns     637ns  cuDeviceGet\n",
            "                    0.00%     440ns         1     440ns     440ns     440ns  cuModuleGetLoadingMode\n",
            "                    0.00%     238ns         1     238ns     238ns     238ns  cuDeviceGetUuid\n"
          ]
        }
      ]
    },
    {
      "cell_type": "code",
      "source": [
        "!./reduction_wrp_atmc_kernel"
      ],
      "metadata": {
        "colab": {
          "base_uri": "https://localhost:8080/"
        },
        "id": "YJMe4jZQjoVM",
        "outputId": "128f72e4-9cde-4469-ed61-7a6dd930a1ff"
      },
      "execution_count": 10,
      "outputs": [
        {
          "output_type": "stream",
          "name": "stdout",
          "text": [
            "Time= 0.800 msec, bandwidth= 83.907059 GB/s\n",
            "host: 0.996007, device 0.996007\n"
          ]
        }
      ]
    },
    {
      "cell_type": "code",
      "source": [
        "!nvcc -o reduction_kernel reduction.cpp reduction_kernel.cu -I cuda-samples/Common -arch=sm_50 -allow-unsupported-compiler"
      ],
      "metadata": {
        "id": "8vMpZ_eAMu-g"
      },
      "execution_count": 11,
      "outputs": []
    },
    {
      "cell_type": "code",
      "source": [
        "!nvprof ./reduction_kernel"
      ],
      "metadata": {
        "colab": {
          "base_uri": "https://localhost:8080/"
        },
        "id": "Q4AOkqLGMvgv",
        "outputId": "4b4d585f-b372-4a80-f4b8-29758724788d"
      },
      "execution_count": 13,
      "outputs": [
        {
          "output_type": "stream",
          "name": "stdout",
          "text": [
            "==1147== NVPROF is profiling process 1147, command: ./reduction_kernel\n",
            "Time= 34.107 msec, bandwidth= 1.967610 GB/s\n",
            "host: 0.996007, device 0.995959\n",
            "==1147== Profiling application: ./reduction_kernel\n",
            "==1147== Profiling result:\n",
            "            Type  Time(%)      Time     Calls       Avg       Min       Max  Name\n",
            " GPU activities:   98.00%  3.35611s       101  33.229ms  33.223ms  33.558ms  atomic_reduction_kernel(float*, float*, int)\n",
            "                    1.59%  54.428ms       100  544.28us  543.86us  545.08us  [CUDA memcpy DtoD]\n",
            "                    0.41%  14.154ms         1  14.154ms  14.154ms  14.154ms  [CUDA memcpy HtoD]\n",
            "                    0.00%  1.5680us         1  1.5680us  1.5680us  1.5680us  [CUDA memcpy DtoH]\n",
            "      API calls:   94.70%  3.40967s         1  3.40967s  3.40967s  3.40967s  cudaDeviceSynchronize\n",
            "                    4.82%  173.63ms         2  86.817ms  131.07us  173.50ms  cudaMalloc\n",
            "                    0.41%  14.925ms       102  146.32us  4.3690us  14.322ms  cudaMemcpy\n",
            "                    0.04%  1.4002ms         2  700.09us  247.63us  1.1526ms  cudaFree\n",
            "                    0.02%  622.80us       101  6.1660us  3.1750us  214.81us  cudaLaunchKernel\n",
            "                    0.00%  143.89us       114  1.2620us     154ns  61.038us  cuDeviceGetAttribute\n",
            "                    0.00%  14.405us         1  14.405us  14.405us  14.405us  cuDeviceGetName\n",
            "                    0.00%  7.3140us         1  7.3140us  7.3140us  7.3140us  cuDeviceGetPCIBusId\n",
            "                    0.00%  5.1310us         1  5.1310us  5.1310us  5.1310us  cuDeviceTotalMem\n",
            "                    0.00%  1.8150us         3     605ns     235ns  1.2970us  cuDeviceGetCount\n",
            "                    0.00%  1.2840us         2     642ns     194ns  1.0900us  cuDeviceGet\n",
            "                    0.00%     680ns         1     680ns     680ns     680ns  cuModuleGetLoadingMode\n",
            "                    0.00%     246ns         1     246ns     246ns     246ns  cuDeviceGetUuid\n"
          ]
        }
      ]
    },
    {
      "cell_type": "code",
      "source": [
        "!./reduction_kernel"
      ],
      "metadata": {
        "colab": {
          "base_uri": "https://localhost:8080/"
        },
        "id": "8Ebo6tStMxcQ",
        "outputId": "880be52e-702b-4088-f7f1-0389dbe9e058"
      },
      "execution_count": 12,
      "outputs": [
        {
          "output_type": "stream",
          "name": "stdout",
          "text": [
            "Time= 35.386 msec, bandwidth= 1.896496 GB/s\n",
            "host: 0.996007, device 0.995960\n"
          ]
        }
      ]
    }
  ]
}