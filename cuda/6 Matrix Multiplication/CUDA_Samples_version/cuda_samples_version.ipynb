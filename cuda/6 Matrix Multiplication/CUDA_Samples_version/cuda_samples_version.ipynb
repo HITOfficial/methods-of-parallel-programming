{
  "nbformat": 4,
  "nbformat_minor": 0,
  "metadata": {
    "colab": {
      "provenance": [],
      "gpuType": "T4"
    },
    "kernelspec": {
      "name": "python3",
      "display_name": "Python 3"
    },
    "language_info": {
      "name": "python"
    },
    "accelerator": "GPU"
  },
  "cells": [
    {
      "cell_type": "code",
      "execution_count": 3,
      "metadata": {
        "colab": {
          "base_uri": "https://localhost:8080/"
        },
        "id": "-jKWTeg79mTJ",
        "outputId": "529d5a55-75d0-4f0d-ee71-9ade0d88edd9"
      },
      "outputs": [
        {
          "output_type": "stream",
          "name": "stdout",
          "text": [
            "Python 3.10.12\n",
            "nvcc: NVIDIA (R) Cuda compiler driver\n",
            "Copyright (c) 2005-2023 NVIDIA Corporation\n",
            "Built on Tue_Aug_15_22:02:13_PDT_2023\n",
            "Cuda compilation tools, release 12.2, V12.2.140\n",
            "Build cuda_12.2.r12.2/compiler.33191640_0\n",
            "Collecting nvcc4jupyter\n",
            "  Downloading nvcc4jupyter-1.2.1-py3-none-any.whl (10 kB)\n",
            "Installing collected packages: nvcc4jupyter\n",
            "Successfully installed nvcc4jupyter-1.2.1\n",
            "Detected platform \"Colab\". Running its setup...\n",
            "Source files will be saved in \"/tmp/tmp_bs7c30y\".\n"
          ]
        }
      ],
      "source": [
        "!python --version\n",
        "!nvcc --version\n",
        "!pip install nvcc4jupyter\n",
        "%load_ext nvcc4jupyter"
      ]
    },
    {
      "cell_type": "code",
      "source": [
        "!git clone https://github.com/NVIDIA/cuda-samples.git"
      ],
      "metadata": {
        "colab": {
          "base_uri": "https://localhost:8080/"
        },
        "id": "6BNt3XL2D3sN",
        "outputId": "1194c9c4-fb77-4067-dad0-3ead1e835588"
      },
      "execution_count": 5,
      "outputs": [
        {
          "output_type": "stream",
          "name": "stdout",
          "text": [
            "fatal: destination path 'cuda-samples' already exists and is not an empty directory.\n"
          ]
        }
      ]
    },
    {
      "cell_type": "code",
      "source": [
        "!nvcc -o a16.out matrixMul.cu -I cuda-samples/Common\n",
        "!nvcc -o a256.out matrixMul_256.cu -I cuda-samples/Common\n",
        "!nvcc -o a512.out matrixMul_512.cu -I cuda-samples/Common\n",
        "!nvcc -o a1024.out matrixMul_1024.cu -I cuda-samples/Common"
      ],
      "metadata": {
        "id": "hRMfKXob94Lg"
      },
      "execution_count": 6,
      "outputs": []
    },
    {
      "cell_type": "code",
      "source": [
        "!nvprof ./a16.out"
      ],
      "metadata": {
        "colab": {
          "base_uri": "https://localhost:8080/"
        },
        "id": "-z47s9sJBxsa",
        "outputId": "6fa168b7-73b1-499d-a91f-c60095f42c3a"
      },
      "execution_count": 7,
      "outputs": [
        {
          "output_type": "stream",
          "name": "stdout",
          "text": [
            "[Matrix Multiply Using CUDA] - Starting...\n",
            "==1607== NVPROF is profiling process 1607, command: ./a16.out\n",
            "GPU Device 0: \"Turing\" with compute capability 7.5\n",
            "\n",
            "MatrixA(160,160), MatrixB(320,160)\n",
            "Computing result using CUDA Kernel...\n",
            "done\n",
            "Performance= 322.62 GFlop/s, Time= 0.051 msec, Size= 16384000 Ops, WorkgroupSize= 256 threads/block\n",
            "Checking computed result for correctness: Result = PASS\n",
            "\n",
            "NOTE: The CUDA Samples are not meant for performancemeasurements. Results may vary when GPU Boost is enabled.\n",
            "==1607== Profiling application: ./a16.out\n",
            "==1607== Profiling result:\n",
            "            Type  Time(%)      Time     Calls       Avg       Min       Max  Name\n",
            " GPU activities:   99.66%  14.902ms       301  49.507us  49.183us  50.142us  void MatrixMulCUDA<int=16>(float*, float*, float*, int, int)\n",
            "                    0.23%  33.792us         2  16.896us  14.368us  19.424us  [CUDA memcpy HtoD]\n",
            "                    0.11%  17.024us         1  17.024us  17.024us  17.024us  [CUDA memcpy DtoH]\n",
            "      API calls:   59.40%  215.79ms         1  215.79ms  215.79ms  215.79ms  cudaSetDevice\n",
            "                   35.54%  129.11ms       301  428.94us  2.9200us  127.93ms  cudaLaunchKernel\n",
            "                    3.85%  13.969ms         1  13.969ms  13.969ms  13.969ms  cudaEventSynchronize\n",
            "                    0.62%  2.2394ms         3  746.47us  2.8980us  2.2297ms  cudaHostAlloc\n",
            "                    0.31%  1.1154ms         3  371.81us  3.9470us  1.0892ms  cudaMemcpyAsync\n",
            "                    0.13%  467.81us         3  155.94us  6.2780us  436.84us  cudaFreeHost\n",
            "                    0.04%  136.57us       114  1.1970us     135ns  54.413us  cuDeviceGetAttribute\n",
            "                    0.03%  98.738us         3  32.912us  2.6410us  91.478us  cudaMalloc\n",
            "                    0.03%  95.276us         3  31.758us  2.9370us  82.742us  cudaFree\n",
            "                    0.02%  63.020us         2  31.510us  23.091us  39.929us  cudaStreamSynchronize\n",
            "                    0.02%  59.951us         7  8.5640us     370ns  54.502us  cudaDeviceGetAttribute\n",
            "                    0.02%  59.199us         1  59.199us  59.199us  59.199us  cudaStreamCreateWithFlags\n",
            "                    0.01%  19.664us         2  9.8320us     616ns  19.048us  cudaEventCreate\n",
            "                    0.01%  19.465us         2  9.7320us  4.1200us  15.345us  cudaEventRecord\n",
            "                    0.00%  11.249us         1  11.249us  11.249us  11.249us  cuDeviceGetName\n",
            "                    0.00%  5.7950us         1  5.7950us  5.7950us  5.7950us  cuDeviceGetPCIBusId\n",
            "                    0.00%  3.4280us         1  3.4280us  3.4280us  3.4280us  cuDeviceTotalMem\n",
            "                    0.00%  3.0390us         1  3.0390us  3.0390us  3.0390us  cudaEventElapsedTime\n",
            "                    0.00%  2.9620us         2  1.4810us     569ns  2.3930us  cudaEventDestroy\n",
            "                    0.00%  1.1650us         3     388ns     192ns     701ns  cuDeviceGetCount\n",
            "                    0.00%  1.0580us         1  1.0580us  1.0580us  1.0580us  cudaGetDeviceCount\n",
            "                    0.00%     885ns         2     442ns     155ns     730ns  cuDeviceGet\n",
            "                    0.00%     337ns         1     337ns     337ns     337ns  cuModuleGetLoadingMode\n",
            "                    0.00%     206ns         1     206ns     206ns     206ns  cuDeviceGetUuid\n"
          ]
        }
      ]
    },
    {
      "cell_type": "code",
      "source": [
        "!nvprof ./a256.out"
      ],
      "metadata": {
        "colab": {
          "base_uri": "https://localhost:8080/"
        },
        "id": "PFJo5wx9B5Ek",
        "outputId": "8b942f9e-980b-42f7-e241-b4876c5eac98"
      },
      "execution_count": 8,
      "outputs": [
        {
          "output_type": "stream",
          "name": "stdout",
          "text": [
            "[Matrix Multiply Using CUDA] - Starting...\n",
            "==1636== NVPROF is profiling process 1636, command: ./a256.out\n",
            "GPU Device 0: \"Turing\" with compute capability 7.5\n",
            "\n",
            "MatrixA(160,160), MatrixB(320,160)\n",
            "Computing result using CUDA Kernel...\n",
            "done\n",
            "Performance= 322.66 GFlop/s, Time= 0.051 msec, Size= 16384000 Ops, WorkgroupSize= 256 threads/block\n",
            "Checking computed result for correctness: Result = PASS\n",
            "\n",
            "NOTE: The CUDA Samples are not meant for performancemeasurements. Results may vary when GPU Boost is enabled.\n",
            "==1636== Profiling application: ./a256.out\n",
            "==1636== Profiling result:\n",
            "            Type  Time(%)      Time     Calls       Avg       Min       Max  Name\n",
            " GPU activities:   99.66%  14.904ms       301  49.515us  49.151us  50.207us  void MatrixMulCUDA<int=16>(float*, float*, float*, int, int)\n",
            "                    0.22%  33.342us         2  16.671us  14.143us  19.199us  [CUDA memcpy HtoD]\n",
            "                    0.11%  16.991us         1  16.991us  16.991us  16.991us  [CUDA memcpy DtoH]\n",
            "      API calls:   90.90%  181.25ms         1  181.25ms  181.25ms  181.25ms  cudaSetDevice\n",
            "                    6.97%  13.907ms         1  13.907ms  13.907ms  13.907ms  cudaEventSynchronize\n",
            "                    0.77%  1.5454ms       301  5.1340us  3.0940us  308.80us  cudaLaunchKernel\n",
            "                    0.74%  1.4783ms         3  492.78us  3.0600us  1.4696ms  cudaHostAlloc\n",
            "                    0.31%  615.50us         3  205.17us  6.0520us  592.95us  cudaFreeHost\n",
            "                    0.07%  138.80us       114  1.2170us     144ns  55.135us  cuDeviceGetAttribute\n",
            "                    0.06%  116.75us         3  38.916us  2.9750us  109.12us  cudaMalloc\n",
            "                    0.06%  109.98us         3  36.659us  2.9260us  95.587us  cudaFree\n",
            "                    0.03%  67.247us         2  33.623us  23.368us  43.879us  cudaStreamSynchronize\n",
            "                    0.02%  49.508us         7  7.0720us     388ns  44.459us  cudaDeviceGetAttribute\n",
            "                    0.02%  42.455us         3  14.151us  3.8060us  20.299us  cudaMemcpyAsync\n",
            "                    0.01%  28.842us         1  28.842us  28.842us  28.842us  cudaStreamCreateWithFlags\n",
            "                    0.01%  11.314us         2  5.6570us  2.9690us  8.3450us  cudaEventRecord\n",
            "                    0.01%  11.115us         1  11.115us  11.115us  11.115us  cuDeviceGetName\n",
            "                    0.01%  10.177us         2  5.0880us     691ns  9.4860us  cudaEventCreate\n",
            "                    0.00%  4.8970us         1  4.8970us  4.8970us  4.8970us  cuDeviceGetPCIBusId\n",
            "                    0.00%  4.6110us         1  4.6110us  4.6110us  4.6110us  cudaEventElapsedTime\n",
            "                    0.00%  4.1840us         1  4.1840us  4.1840us  4.1840us  cuDeviceTotalMem\n",
            "                    0.00%  2.9250us         2  1.4620us     633ns  2.2920us  cudaEventDestroy\n",
            "                    0.00%  1.4880us         3     496ns     210ns  1.0250us  cuDeviceGetCount\n",
            "                    0.00%     897ns         2     448ns     196ns     701ns  cuDeviceGet\n",
            "                    0.00%     895ns         1     895ns     895ns     895ns  cudaGetDeviceCount\n",
            "                    0.00%     590ns         1     590ns     590ns     590ns  cuModuleGetLoadingMode\n",
            "                    0.00%     251ns         1     251ns     251ns     251ns  cuDeviceGetUuid\n"
          ]
        }
      ]
    },
    {
      "cell_type": "code",
      "source": [
        "!nvprof ./a512.out"
      ],
      "metadata": {
        "colab": {
          "base_uri": "https://localhost:8080/"
        },
        "id": "H0EFBioJB6gG",
        "outputId": "5fe6b3a1-6a74-416c-adc9-4c590b10691f"
      },
      "execution_count": 9,
      "outputs": [
        {
          "output_type": "stream",
          "name": "stdout",
          "text": [
            "[Matrix Multiply Using CUDA] - Starting...\n",
            "==1665== NVPROF is profiling process 1665, command: ./a512.out\n",
            "GPU Device 0: \"Turing\" with compute capability 7.5\n",
            "\n",
            "MatrixA(160,160), MatrixB(320,160)\n",
            "Computing result using CUDA Kernel...\n",
            "done\n",
            "Performance= 322.55 GFlop/s, Time= 0.051 msec, Size= 16384000 Ops, WorkgroupSize= 256 threads/block\n",
            "Checking computed result for correctness: Result = PASS\n",
            "\n",
            "NOTE: The CUDA Samples are not meant for performancemeasurements. Results may vary when GPU Boost is enabled.\n",
            "==1665== Profiling application: ./a512.out\n",
            "==1665== Profiling result:\n",
            "            Type  Time(%)      Time     Calls       Avg       Min       Max  Name\n",
            " GPU activities:   99.66%  14.907ms       301  49.525us  49.118us  50.175us  void MatrixMulCUDA<int=16>(float*, float*, float*, int, int)\n",
            "                    0.22%  33.631us         2  16.815us  14.336us  19.295us  [CUDA memcpy HtoD]\n",
            "                    0.11%  16.959us         1  16.959us  16.959us  16.959us  [CUDA memcpy DtoH]\n",
            "      API calls:   91.53%  189.61ms         1  189.61ms  189.61ms  189.61ms  cudaSetDevice\n",
            "                    6.74%  13.961ms         1  13.961ms  13.961ms  13.961ms  cudaEventSynchronize\n",
            "                    0.69%  1.4313ms       301  4.7550us  2.9730us  250.29us  cudaLaunchKernel\n",
            "                    0.53%  1.0877ms         3  362.55us  2.8340us  1.0801ms  cudaHostAlloc\n",
            "                    0.22%  456.54us         3  152.18us  5.2550us  435.67us  cudaFreeHost\n",
            "                    0.07%  141.51us       114  1.2410us     142ns  56.136us  cuDeviceGetAttribute\n",
            "                    0.05%  98.837us         3  32.945us  2.7360us  91.893us  cudaMalloc\n",
            "                    0.05%  98.128us         3  32.709us  2.7340us  86.312us  cudaFree\n",
            "                    0.03%  68.343us         2  34.171us  22.703us  45.640us  cudaStreamSynchronize\n",
            "                    0.03%  67.588us         7  9.6550us     326ns  63.345us  cudaDeviceGetAttribute\n",
            "                    0.02%  41.586us         3  13.862us  3.4780us  20.378us  cudaMemcpyAsync\n",
            "                    0.01%  28.230us         1  28.230us  28.230us  28.230us  cudaStreamCreateWithFlags\n",
            "                    0.01%  12.647us         1  12.647us  12.647us  12.647us  cuDeviceGetName\n",
            "                    0.01%  11.631us         2  5.8150us  3.1550us  8.4760us  cudaEventRecord\n",
            "                    0.00%  10.028us         2  5.0140us     654ns  9.3740us  cudaEventCreate\n",
            "                    0.00%  5.2620us         1  5.2620us  5.2620us  5.2620us  cuDeviceGetPCIBusId\n",
            "                    0.00%  4.5490us         1  4.5490us  4.5490us  4.5490us  cuDeviceTotalMem\n",
            "                    0.00%  4.1470us         1  4.1470us  4.1470us  4.1470us  cudaEventElapsedTime\n",
            "                    0.00%  2.6920us         2  1.3460us     557ns  2.1350us  cudaEventDestroy\n",
            "                    0.00%  1.4570us         3     485ns     193ns     955ns  cuDeviceGetCount\n",
            "                    0.00%  1.0180us         2     509ns     196ns     822ns  cuDeviceGet\n",
            "                    0.00%  1.0020us         1  1.0020us  1.0020us  1.0020us  cudaGetDeviceCount\n",
            "                    0.00%     504ns         1     504ns     504ns     504ns  cuModuleGetLoadingMode\n",
            "                    0.00%     224ns         1     224ns     224ns     224ns  cuDeviceGetUuid\n"
          ]
        }
      ]
    },
    {
      "cell_type": "code",
      "source": [
        "!nvprof ./a1024.out"
      ],
      "metadata": {
        "colab": {
          "base_uri": "https://localhost:8080/"
        },
        "id": "BThmV6od_kmG",
        "outputId": "24374605-ca4e-4326-a786-6307a1a26f4e"
      },
      "execution_count": 10,
      "outputs": [
        {
          "output_type": "stream",
          "name": "stdout",
          "text": [
            "[Matrix Multiply Using CUDA] - Starting...\n",
            "==1684== NVPROF is profiling process 1684, command: ./a1024.out\n",
            "GPU Device 0: \"Turing\" with compute capability 7.5\n",
            "\n",
            "MatrixA(160,160), MatrixB(320,160)\n",
            "Computing result using CUDA Kernel...\n",
            "done\n",
            "Performance= 322.48 GFlop/s, Time= 0.051 msec, Size= 16384000 Ops, WorkgroupSize= 256 threads/block\n",
            "Checking computed result for correctness: Result = PASS\n",
            "\n",
            "NOTE: The CUDA Samples are not meant for performancemeasurements. Results may vary when GPU Boost is enabled.\n",
            "==1684== Profiling application: ./a1024.out\n",
            "==1684== Profiling result:\n",
            "            Type  Time(%)      Time     Calls       Avg       Min       Max  Name\n",
            " GPU activities:   99.66%  14.906ms       301  49.521us  49.182us  50.110us  void MatrixMulCUDA<int=16>(float*, float*, float*, int, int)\n",
            "                    0.23%  34.367us         2  17.183us  14.272us  20.095us  [CUDA memcpy HtoD]\n",
            "                    0.11%  16.991us         1  16.991us  16.991us  16.991us  [CUDA memcpy DtoH]\n",
            "      API calls:   91.47%  205.37ms         1  205.37ms  205.37ms  205.37ms  cudaSetDevice\n",
            "                    5.89%  13.228ms         1  13.228ms  13.228ms  13.228ms  cudaEventSynchronize\n",
            "                    0.97%  2.1744ms       301  7.2230us  4.9170us  344.62us  cudaLaunchKernel\n",
            "                    0.71%  1.6016ms         3  533.88us  4.5970us  1.5897ms  cudaHostAlloc\n",
            "                    0.60%  1.3459ms         3  448.62us  5.7300us  1.3203ms  cudaFreeHost\n",
            "                    0.10%  219.29us       114  1.9230us     242ns  85.552us  cuDeviceGetAttribute\n",
            "                    0.07%  166.59us         3  55.530us  4.2200us  148.14us  cudaFree\n",
            "                    0.06%  134.62us         3  44.874us  3.2320us  127.32us  cudaMalloc\n",
            "                    0.03%  68.242us         7  9.7480us     625ns  62.232us  cudaDeviceGetAttribute\n",
            "                    0.02%  48.960us         2  24.480us  23.164us  25.796us  cudaStreamSynchronize\n",
            "                    0.02%  47.726us         3  15.908us  5.4720us  25.338us  cudaMemcpyAsync\n",
            "                    0.02%  43.047us         1  43.047us  43.047us  43.047us  cudaStreamCreateWithFlags\n",
            "                    0.01%  19.316us         2  9.6580us  1.2430us  18.073us  cudaEventCreate\n",
            "                    0.01%  16.394us         2  8.1970us  4.9390us  11.455us  cudaEventRecord\n",
            "                    0.01%  13.565us         1  13.565us  13.565us  13.565us  cuDeviceGetName\n",
            "                    0.00%  7.7060us         1  7.7060us  7.7060us  7.7060us  cuDeviceGetPCIBusId\n",
            "                    0.00%  6.3760us         1  6.3760us  6.3760us  6.3760us  cuDeviceTotalMem\n",
            "                    0.00%  4.7160us         1  4.7160us  4.7160us  4.7160us  cudaEventElapsedTime\n",
            "                    0.00%  4.1820us         2  2.0910us  1.0350us  3.1470us  cudaEventDestroy\n",
            "                    0.00%  1.7450us         3     581ns     246ns  1.1780us  cuDeviceGetCount\n",
            "                    0.00%  1.2130us         1  1.2130us  1.2130us  1.2130us  cudaGetDeviceCount\n",
            "                    0.00%     990ns         2     495ns     227ns     763ns  cuDeviceGet\n",
            "                    0.00%     482ns         1     482ns     482ns     482ns  cuModuleGetLoadingMode\n",
            "                    0.00%     372ns         1     372ns     372ns     372ns  cuDeviceGetUuid\n"
          ]
        }
      ]
    }
  ]
}