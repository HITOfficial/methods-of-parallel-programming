{
  "nbformat": 4,
  "nbformat_minor": 0,
  "metadata": {
    "colab": {
      "provenance": [],
      "gpuType": "T4"
    },
    "kernelspec": {
      "name": "python3",
      "display_name": "Python 3"
    },
    "language_info": {
      "name": "python"
    },
    "accelerator": "GPU"
  },
  "cells": [
    {
      "cell_type": "code",
      "execution_count": 1,
      "metadata": {
        "colab": {
          "base_uri": "https://localhost:8080/"
        },
        "id": "-jKWTeg79mTJ",
        "outputId": "b4be23d4-57a2-43c7-d15d-f34e52879ce2"
      },
      "outputs": [
        {
          "output_type": "stream",
          "name": "stdout",
          "text": [
            "Python 3.10.12\n",
            "nvcc: NVIDIA (R) Cuda compiler driver\n",
            "Copyright (c) 2005-2023 NVIDIA Corporation\n",
            "Built on Tue_Aug_15_22:02:13_PDT_2023\n",
            "Cuda compilation tools, release 12.2, V12.2.140\n",
            "Build cuda_12.2.r12.2/compiler.33191640_0\n",
            "Collecting nvcc4jupyter\n",
            "  Downloading nvcc4jupyter-1.2.1-py3-none-any.whl (10 kB)\n",
            "Installing collected packages: nvcc4jupyter\n",
            "Successfully installed nvcc4jupyter-1.2.1\n",
            "Detected platform \"Colab\". Running its setup...\n",
            "Source files will be saved in \"/tmp/tmpol3jhwt8\".\n"
          ]
        }
      ],
      "source": [
        "!python --version\n",
        "!nvcc --version\n",
        "!pip install nvcc4jupyter\n",
        "%load_ext nvcc4jupyter"
      ]
    },
    {
      "cell_type": "code",
      "source": [
        "!nvcc -o a16.out matrixmul.cu\n",
        "!nvcc -o a256.out matrixmul_256.cu\n",
        "!nvcc -o a512.out matrixmul_512.cu\n",
        "!nvcc -o a1024.out matrixmul_1024.cu"
      ],
      "metadata": {
        "id": "hRMfKXob94Lg"
      },
      "execution_count": 20,
      "outputs": []
    },
    {
      "cell_type": "code",
      "source": [
        "!nvprof ./a16.out"
      ],
      "metadata": {
        "colab": {
          "base_uri": "https://localhost:8080/"
        },
        "id": "-z47s9sJBxsa",
        "outputId": "c6ce5c9d-c3af-43b2-f5e8-71853a3e42c2"
      },
      "execution_count": 22,
      "outputs": [
        {
          "output_type": "stream",
          "name": "stdout",
          "text": [
            "==6364== NVPROF is profiling process 6364, command: ./a16.out\n",
            "Error: -1.12206e-05\n",
            "==6364== Profiling application: ./a16.out\n",
            "==6364== Profiling result:\n",
            "            Type  Time(%)      Time     Calls       Avg       Min       Max  Name\n",
            " GPU activities:   54.38%  4.7680us         1  4.7680us  4.7680us  4.7680us  matrixMultiplicationKernel(float*, float*, float*, int)\n",
            "                   24.09%  2.1120us         1  2.1120us  2.1120us  2.1120us  [CUDA memcpy DtoH]\n",
            "                   21.53%  1.8880us         2     944ns     704ns  1.1840us  [CUDA memcpy HtoD]\n",
            "      API calls:   99.38%  93.153ms         3  31.051ms  2.0600us  93.144ms  cudaMalloc\n",
            "                    0.22%  204.30us         1  204.30us  204.30us  204.30us  cudaLaunchKernel\n",
            "                    0.15%  140.26us       114  1.2300us     143ns  55.868us  cuDeviceGetAttribute\n",
            "                    0.13%  120.96us         3  40.318us  3.4220us  101.27us  cudaFree\n",
            "                    0.06%  60.326us         3  20.108us  6.2510us  33.503us  cudaMemcpy\n",
            "                    0.02%  17.747us         3  5.9150us     237ns  16.035us  cuDeviceGetCount\n",
            "                    0.01%  11.240us         1  11.240us  11.240us  11.240us  cuDeviceGetName\n",
            "                    0.01%  10.680us         1  10.680us  10.680us  10.680us  cuDeviceGetPCIBusId\n",
            "                    0.01%  8.5170us         2  4.2580us  1.4900us  7.0270us  cudaDeviceSynchronize\n",
            "                    0.00%  4.5480us         1  4.5480us  4.5480us  4.5480us  cuDeviceTotalMem\n",
            "                    0.00%  1.1680us         2     584ns     181ns     987ns  cuDeviceGet\n",
            "                    0.00%     507ns         1     507ns     507ns     507ns  cuModuleGetLoadingMode\n",
            "                    0.00%     228ns         1     228ns     228ns     228ns  cuDeviceGetUuid\n"
          ]
        }
      ]
    },
    {
      "cell_type": "code",
      "source": [
        "!nvprof ./a256.out"
      ],
      "metadata": {
        "colab": {
          "base_uri": "https://localhost:8080/"
        },
        "id": "PFJo5wx9B5Ek",
        "outputId": "c8ecb2ca-dcaa-40b3-ef11-628ebc840d4e"
      },
      "execution_count": 21,
      "outputs": [
        {
          "output_type": "stream",
          "name": "stdout",
          "text": [
            "==6293== NVPROF is profiling process 6293, command: ./a256.out\n",
            "Error: -146.598\n",
            "==6293== Profiling application: ./a256.out\n",
            "==6293== Profiling result:\n",
            "            Type  Time(%)      Time     Calls       Avg       Min       Max  Name\n",
            " GPU activities:   66.19%  48.351us         2  24.175us  23.935us  24.416us  [CUDA memcpy HtoD]\n",
            "                   33.81%  24.703us         1  24.703us  24.703us  24.703us  [CUDA memcpy DtoH]\n",
            "      API calls:   99.23%  95.937ms         3  31.979ms  1.9650us  95.931ms  cudaMalloc\n",
            "                    0.29%  283.25us         3  94.416us  85.612us  104.74us  cudaMemcpy\n",
            "                    0.17%  165.60us         1  165.60us  165.60us  165.60us  cudaLaunchKernel\n",
            "                    0.14%  139.17us       114  1.2200us     137ns  55.717us  cuDeviceGetAttribute\n",
            "                    0.13%  126.00us         3  41.999us  4.3440us  102.68us  cudaFree\n",
            "                    0.01%  12.226us         1  12.226us  12.226us  12.226us  cuDeviceGetName\n",
            "                    0.01%  5.5680us         1  5.5680us  5.5680us  5.5680us  cuDeviceGetPCIBusId\n",
            "                    0.00%  4.5110us         1  4.5110us  4.5110us  4.5110us  cuDeviceTotalMem\n",
            "                    0.00%  4.2200us         2  2.1100us  1.2950us  2.9250us  cudaDeviceSynchronize\n",
            "                    0.00%  2.6060us         2  1.3030us     305ns  2.3010us  cuDeviceGet\n",
            "                    0.00%  1.5330us         3     511ns     189ns     999ns  cuDeviceGetCount\n",
            "                    0.00%     488ns         1     488ns     488ns     488ns  cuModuleGetLoadingMode\n",
            "                    0.00%     223ns         1     223ns     223ns     223ns  cuDeviceGetUuid\n"
          ]
        }
      ]
    },
    {
      "cell_type": "code",
      "source": [
        "!nvprof ./a512.out"
      ],
      "metadata": {
        "colab": {
          "base_uri": "https://localhost:8080/"
        },
        "id": "H0EFBioJB6gG",
        "outputId": "c763d9b7-940e-4595-ad57-7abef3a6e58c"
      },
      "execution_count": 23,
      "outputs": [
        {
          "output_type": "stream",
          "name": "stdout",
          "text": [
            "==6391== NVPROF is profiling process 6391, command: ./a512.out\n",
            "Error: 980.992\n",
            "==6391== Profiling application: ./a512.out\n",
            "==6391== Profiling result:\n",
            "            Type  Time(%)      Time     Calls       Avg       Min       Max  Name\n",
            " GPU activities:   64.42%  176.19us         2  88.094us  87.549us  88.639us  [CUDA memcpy HtoD]\n",
            "                   35.58%  97.309us         1  97.309us  97.309us  97.309us  [CUDA memcpy DtoH]\n",
            "      API calls:   98.32%  95.717ms         3  31.906ms  6.7410us  95.637ms  cudaMalloc\n",
            "                    0.96%  937.04us         3  312.35us  278.21us  347.78us  cudaMemcpy\n",
            "                    0.37%  360.12us         3  120.04us  9.4730us  236.17us  cudaFree\n",
            "                    0.17%  169.44us         1  169.44us  169.44us  169.44us  cudaLaunchKernel\n",
            "                    0.14%  138.85us       114  1.2170us     137ns  56.405us  cuDeviceGetAttribute\n",
            "                    0.01%  10.959us         1  10.959us  10.959us  10.959us  cuDeviceGetName\n",
            "                    0.01%  8.3320us         1  8.3320us  8.3320us  8.3320us  cuDeviceGetPCIBusId\n",
            "                    0.00%  4.6380us         2  2.3190us  1.7530us  2.8850us  cudaDeviceSynchronize\n",
            "                    0.00%  4.3220us         1  4.3220us  4.3220us  4.3220us  cuDeviceTotalMem\n",
            "                    0.00%  1.5430us         3     514ns     200ns  1.1290us  cuDeviceGetCount\n",
            "                    0.00%     853ns         2     426ns     190ns     663ns  cuDeviceGet\n",
            "                    0.00%     398ns         1     398ns     398ns     398ns  cuModuleGetLoadingMode\n",
            "                    0.00%     240ns         1     240ns     240ns     240ns  cuDeviceGetUuid\n"
          ]
        }
      ]
    },
    {
      "cell_type": "code",
      "source": [
        "!nvprof ./a1024.out"
      ],
      "metadata": {
        "colab": {
          "base_uri": "https://localhost:8080/"
        },
        "id": "BThmV6od_kmG",
        "outputId": "7cafd563-116e-42c9-9403-8250442460cd"
      },
      "execution_count": 24,
      "outputs": [
        {
          "output_type": "stream",
          "name": "stdout",
          "text": [
            "==6422== NVPROF is profiling process 6422, command: ./a1024.out\n",
            "Error: -13.105\n",
            "==6422== Profiling application: ./a1024.out\n",
            "==6422== Profiling result:\n",
            "            Type  Time(%)      Time     Calls       Avg       Min       Max  Name\n",
            " GPU activities:   69.10%  1.5382ms         2  769.10us  761.58us  776.62us  [CUDA memcpy HtoD]\n",
            "                   30.90%  687.73us         1  687.73us  687.73us  687.73us  [CUDA memcpy DtoH]\n",
            "      API calls:   95.88%  91.659ms         3  30.553ms  71.028us  91.514ms  cudaMalloc\n",
            "                    3.12%  2.9781ms         3  992.70us  910.80us  1.0643ms  cudaMemcpy\n",
            "                    0.64%  608.61us         3  202.87us  196.16us  211.47us  cudaFree\n",
            "                    0.19%  182.60us         1  182.60us  182.60us  182.60us  cudaLaunchKernel\n",
            "                    0.15%  141.72us       114  1.2430us     142ns  57.198us  cuDeviceGetAttribute\n",
            "                    0.01%  11.533us         1  11.533us  11.533us  11.533us  cuDeviceGetName\n",
            "                    0.01%  6.8610us         2  3.4300us  2.8790us  3.9820us  cudaDeviceSynchronize\n",
            "                    0.01%  5.8540us         1  5.8540us  5.8540us  5.8540us  cuDeviceGetPCIBusId\n",
            "                    0.00%  4.3400us         1  4.3400us  4.3400us  4.3400us  cuDeviceTotalMem\n",
            "                    0.00%  1.9980us         3     666ns     234ns  1.5060us  cuDeviceGetCount\n",
            "                    0.00%     986ns         2     493ns     175ns     811ns  cuDeviceGet\n",
            "                    0.00%     560ns         1     560ns     560ns     560ns  cuModuleGetLoadingMode\n",
            "                    0.00%     239ns         1     239ns     239ns     239ns  cuDeviceGetUuid\n"
          ]
        }
      ]
    }
  ]
}